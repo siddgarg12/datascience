Project environment setup:

Load credentials and relevant Python Libraries
If you were running this notebook locally, you would first install Vertex AI. In this classroom, this is already installed.
!pip install google-cloud-aiplatform
You can download the requirements.txt for this course from the workspace of this lab. File --> Open...