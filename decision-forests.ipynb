{
 "cells": [
  {
   "cell_type": "code",
   "execution_count": null,
   "metadata": {},
   "outputs": [],
   "source": [
    "# https://ydf.readthedocs.io/en/latest/py_api/CartLearner\n",
    "import ydf\n",
    "model = ydf.CartLearner(label=\"my_label\").train(dataset)"
   ]
  },
  {
   "cell_type": "code",
   "execution_count": null,
   "metadata": {},
   "outputs": [],
   "source": [
    "# In YDF, decision trees are trained with axis-aligned condition by default. \n",
    "# You can enable decision oblique trees with the split_axis=\"SPARSE_OBLIQUE\" parameter.\n"
   ]
  },
  {
   "cell_type": "code",
   "execution_count": null,
   "metadata": {},
   "outputs": [],
   "source": [
    "def train_decision_tree(training_examples):\n",
    "  root = create_root() # Create a decision tree with a single empty root.\n",
    "  grow_tree(root, training_examples) # Grow the root node.\n",
    "  return root\n",
    "\n",
    "def grow_tree(node, examples):\n",
    "  condition = find_best_condition(examples) # Find the best condition.\n",
    "\n",
    "  if condition is None:\n",
    "    # No satisfying conditions were found, therefore the grow of the branch stops.\n",
    "    set_leaf_prediction(node, examples)\n",
    "    return\n",
    "\n",
    "  # Create two childrens for the node.\n",
    "  positive_child, negative_child = split_node(node, condition)\n",
    "\n",
    "  # List the training examples used by each children.\n",
    "  negative_examples = [example for example in examples if not condition(example)]\n",
    "  positive_examples = [example for example in examples if condition(example)]\n",
    "\n",
    "  # Continue the growth of the children.\n",
    "  grow_tree(negative_child, negative_examples)\n",
    "  grow_tree(positive_child, positive_examples)"
   ]
  }
 ],
 "metadata": {
  "kernelspec": {
   "display_name": "Python 3",
   "language": "python",
   "name": "python3"
  },
  "language_info": {
   "codemirror_mode": {
    "name": "ipython",
    "version": 3
   },
   "file_extension": ".py",
   "mimetype": "text/x-python",
   "name": "python",
   "nbconvert_exporter": "python",
   "pygments_lexer": "ipython3",
   "version": "3.11.9"
  }
 },
 "nbformat": 4,
 "nbformat_minor": 2
}
