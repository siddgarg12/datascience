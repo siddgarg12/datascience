{
 "cells": [
  {
   "cell_type": "markdown",
   "metadata": {},
   "source": [
    "# [Course - DLAI: Vector DBs](https://learn.deeplearning.ai/courses/vector-databases-embeddings-applications) \n",
    "### Embedding MNIST images and NLP sentences into vectors."
   ]
  },
  {
   "cell_type": "code",
   "execution_count": null,
   "metadata": {},
   "outputs": [],
   "source": [
    "!pip install matplotlib\n",
    "!pip install tensorflow"
   ]
  },
  {
   "cell_type": "code",
   "execution_count": null,
   "metadata": {},
   "outputs": [],
   "source": [
    "import numpy as np\n",
    "import matplotlib.pyplot as plt\n",
    "\n",
    "from tensorflow.keras.datasets import mnist #MNIST is a dataset images which has hand written digits, labels (which is the actual value) are also part of the dataset\n",
    "from scipy.stats import norm"
   ]
  },
  {
   "cell_type": "code",
   "execution_count": null,
   "metadata": {},
   "outputs": [],
   "source": [
    "# Load data – training and test\n",
    "(x_tr, y_tr), (x_te, y_te) = mnist.load_data()\n",
    "\n",
    "#Normalize arrays between 0 & 1\n",
    "x_tr, x_te = x_tr.astype('float32')/255., x_te.astype('float32')/255.\n",
    "\n",
    "# Reshape images (flatten) - convert 28,28 array into 28*28=768,1 array\n",
    "x_tr_flat, x_te_flat = x_tr.reshape(x_tr.shape[0], -1), x_te.reshape(x_te.shape[0], -1)\n",
    "\n",
    "print(x_tr.shape, x_te.shape)\n",
    "print(x_tr_flat.shape, x_te_flat.shape)\n",
    "\n",
    "# Example of a training image\n",
    "plt.imshow(x_tr[1]);"
   ]
  },
  {
   "cell_type": "markdown",
   "metadata": {},
   "source": [
    "### Using VAE model to generate embeddings"
   ]
  },
  {
   "attachments": {
    "image.png": {
     "image/png": "[encoded data removed]"
    }
   },
   "cell_type": "markdown",
   "metadata": {},
   "source": [
    "![image.png](attachment:image.png)"
   ]
  },
  {
   "cell_type": "code",
   "execution_count": null,
   "metadata": {},
   "outputs": [],
   "source": [
    "from tensorflow.keras.layers import Input, Dense, Lambda\n",
    "from tensorflow.keras.models import Model\n",
    "from tensorflow.keras import backend as K\n",
    "from tensorflow.keras import losses\n",
    "\n",
    "# Neural Network Parameters\n",
    "batch_size, n_epoch = 100, 50\n",
    "n_hidden, z_dim = 256, 2"
   ]
  },
  {
   "cell_type": "code",
   "execution_count": null,
   "metadata": {},
   "outputs": [],
   "source": [
    "# sampling function - to grab \"batch_size\" number of images for each training epoc\n",
    "def sampling(args):\n",
    "    mu, log_var = args\n",
    "    eps = K.random_normal(shape=(batch_size, z_dim), mean=0., stddev=1.0)\n",
    "    return mu + K.exp(log_var) * eps"
   ]
  },
  {
   "cell_type": "code",
   "execution_count": null,
   "metadata": {},
   "outputs": [],
   "source": [
    "# Encoder - from 784->256->128->2\n",
    "inputs_flat = Input(shape=(x_tr_flat.shape[1:]))\n",
    "x_flat = Dense(n_hidden, activation='relu')(inputs_flat) # first hidden layer of encoder\n",
    "x_flat = Dense(n_hidden//2, activation='relu')(x_flat)  # second hidden layer of encoder\n",
    "\n",
    "# hidden state, which we will pass into the Model to get the Encoder.\n",
    "mu_flat = Dense(z_dim)(x_flat) #latent space\n",
    "log_var_flat = Dense(z_dim)(x_flat)\n",
    "z_flat = Lambda(sampling, output_shape=(z_dim,))([mu_flat, log_var_flat])\n",
    "\n",
    "#Decoder - from 2->128->256->784\n",
    "latent_inputs = Input(shape=(z_dim,))\n",
    "z_decoder1 = Dense(n_hidden//2, activation='relu')\n",
    "z_decoder2 = Dense(n_hidden, activation='relu')\n",
    "y_decoder = Dense(x_tr_flat.shape[1], activation='sigmoid')\n",
    "z_decoded = z_decoder1(latent_inputs)\n",
    "z_decoded = z_decoder2(z_decoded)\n",
    "y_decoded = y_decoder(z_decoded)\n",
    "decoder_flat = Model(latent_inputs, y_decoded, name=\"decoder_conv\")\n",
    "\n",
    "outputs_flat = decoder_flat(z_flat)\n",
    "\n",
    "# variational autoencoder (VAE) - to reconstruction input\n",
    "reconstruction_loss = losses.binary_crossentropy(inputs_flat,\n",
    "                                                 outputs_flat) * x_tr_flat.shape[1]\n",
    "kl_loss = 0.5 * K.sum(K.square(mu_flat) + K.exp(log_var_flat) - log_var_flat - 1, axis = -1)\n",
    "vae_flat_loss = reconstruction_loss + kl_loss\n",
    "\n",
    "# Build model\n",
    "#  Ensure that the reconstructed outputs are as close to the inputs\n",
    "vae_flat = Model(inputs_flat, outputs_flat)\n",
    "vae_flat.add_loss(vae_flat_loss)\n",
    "vae_flat.compile(optimizer='adam')\n",
    "\n",
    "# train\n",
    "vae_flat.fit(\n",
    "    x_tr_flat,\n",
    "    shuffle=True,\n",
    "    epochs=n_epoch,\n",
    "    batch_size=batch_size,\n",
    "    validation_data=(x_te_flat, None),\n",
    "    verbose=1\n",
    ")"
   ]
  },
  {
   "cell_type": "markdown",
   "metadata": {},
   "source": [
    "### Visualize Embeddings"
   ]
  },
  {
   "cell_type": "code",
   "execution_count": null,
   "metadata": {},
   "outputs": [],
   "source": [
    "# Build encoders\n",
    "encoder_f = Model(inputs_flat, z_flat)  # flat encoder\n",
    "\n",
    "# Plot of the digit classes in the latent space\n",
    "x_te_latent = encoder_f.predict(x_te_flat, batch_size=batch_size,verbose=0)\n",
    "plt.figure(figsize=(8, 6))\n",
    "plt.scatter(x_te_latent[:, 0], x_te_latent[:, 1], c=y_te, alpha=0.75)\n",
    "plt.title('MNIST 2D Embeddings')\n",
    "plt.colorbar()\n",
    "plt.show()"
   ]
  },
  {
   "cell_type": "markdown",
   "metadata": {},
   "source": [
    "## Example: compare three embeddings"
   ]
  },
  {
   "cell_type": "code",
   "execution_count": null,
   "metadata": {},
   "outputs": [],
   "source": [
    "plt.imshow(x_te_flat[10].reshape(28,28));\n",
    "plt.imshow(x_te_flat[13].reshape(28,28));\n",
    "plt.imshow(x_te_flat[2].reshape(28,28));\n",
    "\n",
    "# calculate vectors for each digit\n",
    "zero_A = x_te_latent[10]\n",
    "zero_B = x_te_latent[13]\n",
    "one = x_te_latent[2]\n",
    "\n",
    "print(f\"Embedding for the first ZERO is  {zero_A}\")\n",
    "print(f\"Embedding for the second ZERO is {zero_B}\")\n",
    "print(f\"Embedding for the ONE is         {one}\")"
   ]
  },
  {
   "cell_type": "markdown",
   "metadata": {},
   "source": [
    "## Sentence embeddings"
   ]
  },
  {
   "cell_type": "code",
   "execution_count": null,
   "metadata": {},
   "outputs": [],
   "source": [
    "#!pip install sentence_transformers\n",
    "%pip install tf-keras\n",
    "from sentence_transformers import SentenceTransformer\n",
    "model = SentenceTransformer('paraphrase-MiniLM-L6-v2')"
   ]
  },
  {
   "cell_type": "code",
   "execution_count": null,
   "metadata": {},
   "outputs": [],
   "source": [
    "#Sentences we want to encode. Example:\n",
    "sentence = ['The team enjoyed the hike through the meadow',\n",
    "            'The national park had great views',\n",
    "            'Olive oil drizzled over pizza tastes delicious']\n",
    "\n",
    "# Sentences are encoded by calling model.encode()\n",
    "embedding = model.encode(sentence)\n",
    "\n",
    "#Preview the embeddings\n",
    "print(embedding)\n",
    "\n",
    "embedding.shape"
   ]
  },
  {
   "cell_type": "code",
   "execution_count": null,
   "metadata": {},
   "outputs": [],
   "source": [
    "# %pip install seaborn\n",
    "\n",
    "import seaborn as sns\n",
    "import matplotlib.pyplot as plt\n",
    "\n",
    "sns.heatmap(embedding[0].reshape(-1,384),cmap=\"Greys\",center=0,square=False)\n",
    "plt.gcf().set_size_inches(10,1)\n",
    "plt.axis('off')\n",
    "plt.show()\n",
    "\n",
    "sns.heatmap(embedding[1].reshape(-1,384),cmap=\"Greys\",center=0,square=False)\n",
    "plt.gcf().set_size_inches(10,1)\n",
    "plt.axis('off')\n",
    "plt.show()\n",
    "\n",
    "sns.heatmap(embedding[2].reshape(-1,384),cmap=\"Greys\",center=0,square=False)\n",
    "plt.gcf().set_size_inches(10,1)\n",
    "plt.axis('off')\n",
    "plt.show()"
   ]
  },
  {
   "cell_type": "markdown",
   "metadata": {},
   "source": [
    "## How can we measure the distance between these Image and Sentence Embeddings?\n",
    "\n",
    "There are many ways to calculate the distances between two vectors.\n",
    "\n",
    "Here we will cover 4 distance metrics that you might find being used in the context of vector databases:\n",
    "- Euclidean Distance(L2)\n",
    "- Manhattan Distance(L1)\n",
    "- Dot Product\n",
    "- Cosine Distance"
   ]
  },
  {
   "cell_type": "code",
   "execution_count": null,
   "metadata": {},
   "outputs": [],
   "source": [
    "# Euclidean distance\n",
    "L2 = [(zero_A[i] - zero_B[i])**2 for i in range(len(zero_A))]\n",
    "L2 = np.sqrt(np.array(L2).sum())\n",
    "\n",
    "# alternative way of calculating using numpy library\n",
    "np.linalg.norm((zero_A - zero_B), ord=2)"
   ]
  },
  {
   "cell_type": "code",
   "execution_count": null,
   "metadata": {},
   "outputs": [],
   "source": [
    "# Manhattan Distance\n",
    "L1 = [zero_A[i] - zero_B[i] for i in range(len(zero_A))]\n",
    "L1 = np.abs(L1).sum()\n",
    "\n",
    "#an alternative way of doing this is\n",
    "np.linalg.norm((zero_A - zero_B), ord=1)"
   ]
  },
  {
   "cell_type": "code",
   "execution_count": null,
   "metadata": {},
   "outputs": [],
   "source": [
    "# Dot Product\n",
    "np.dot(zero_A,zero_B)"
   ]
  },
  {
   "cell_type": "code",
   "execution_count": null,
   "metadata": {},
   "outputs": [],
   "source": [
    "# Cosine Distance\n",
    "cosine = 1 - np.dot(zero_A,zero_B)/(np.linalg.norm(zero_A)*np.linalg.norm(zero_B))\n",
    "\n",
    "# Cosine Distance function\n",
    "def cosine_distance(vec1,vec2):\n",
    "  cosine = 1 - (np.dot(vec1, vec2)/(np.linalg.norm(vec1)*np.linalg.norm(vec2)))\n",
    "  return cosine"
   ]
  }
 ],
 "metadata": {
  "kernelspec": {
   "display_name": "Python 3",
   "language": "python",
   "name": "python3"
  },
  "language_info": {
   "codemirror_mode": {
    "name": "ipython",
    "version": 3
   },
   "file_extension": ".py",
   "mimetype": "text/x-python",
   "name": "python",
   "nbconvert_exporter": "python",
   "pygments_lexer": "ipython3",
   "version": "3.11.9"
  }
 },
 "nbformat": 4,
 "nbformat_minor": 2
}
