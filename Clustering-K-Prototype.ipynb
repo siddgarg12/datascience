{
 "cells": [
  {
   "cell_type": "markdown",
   "metadata": {},
   "source": [
    "# K-prototype (incomplete)\n",
    "ZHEXUE HUANG has extended the k-Means Algorithm for Clustering Large Data Sets with Categorical Values. This algorithm is called K-Prototype. The bookstore that provides it is Prince.\n",
    "\n",
    "Github - https://github.com/damiangilgonzalez1995/Clustering-with-LLM/blob/main/kprototypes.ipynb\n",
    "Based on the article - https://towardsdatascience.com/mastering-customer-segmentation-with-llm-3d9008235f41"
   ]
  },
  {
   "cell_type": "code",
   "execution_count": null,
   "metadata": {},
   "outputs": [],
   "source": [
    "# Setup and importing libraries\n",
    "\n",
    "import pandas as pd # dataframe manipulation\n",
    "import numpy as np # linear algebra\n",
    "\n",
    "# data visualization\n",
    "import matplotlib.pyplot as plt\n",
    "import matplotlib.cm as cm\n",
    "import plotly.express as px\n",
    "import plotly.graph_objects as go\n",
    "import seaborn as sns\n",
    "import shap\n",
    "\n",
    "# sklearn \n",
    "from sklearn.cluster import KMeans\n",
    "from sklearn.preprocessing import PowerTransformer, OrdinalEncoder\n",
    "from sklearn.pipeline import Pipeline\n",
    "from sklearn.manifold import TSNE\n",
    "from sklearn.metrics import silhouette_score, silhouette_samples, accuracy_score, classification_report\n",
    "\n",
    "from pyod.models.ecod import ECOD\n",
    "from yellowbrick.cluster import KElbowVisualizer\n",
    "\n",
    "import lightgbm as lgb\n",
    "import prince\n",
    "\n",
    "from kmodes.kprototypes import KPrototypes\n",
    "from plotnine import *\n",
    "import plotnine"
   ]
  },
  {
   "cell_type": "code",
   "execution_count": null,
   "metadata": {},
   "outputs": [],
   "source": [
    "df = pd.read_csv(\"data/train.csv\", sep = \";\")\n",
    "df = df.iloc[:, 0:8]"
   ]
  },
  {
   "cell_type": "markdown",
   "metadata": {},
   "source": [
    "### Preprocessing"
   ]
  },
  {
   "cell_type": "code",
   "execution_count": null,
   "metadata": {},
   "outputs": [],
   "source": [
    "from sklearn.pipeline import Pipeline\n",
    "from sklearn.preprocessing import StandardScaler\n",
    "from sklearn.preprocessing import OrdinalEncoder\n",
    "\n",
    "\n",
    "pipe = Pipeline([('ordinal', OrdinalEncoder()), ('scaler', PowerTransformer())])\n",
    "pipe_fit = pipe.fit(df)\n",
    "\n",
    "data = pd.DataFrame(pipe_fit.transform(df), columns = df.columns)"
   ]
  },
  {
   "cell_type": "markdown",
   "metadata": {},
   "source": [
    "### Get Outliers"
   ]
  },
  {
   "cell_type": "code",
   "execution_count": null,
   "metadata": {},
   "outputs": [],
   "source": [
    "from pyod.models.ecod import ECOD\n",
    "# https://github.com/yzhao062/pyod\n",
    "clf = ECOD()\n",
    "clf.fit(data)\n",
    "outliers = clf.predict(data) \n",
    "\n",
    "df[\"outliers\"] = outliers\n",
    "\n",
    "df_no_outliers = df[df[\"outliers\"] == 0]\n",
    "df_no_outliers = df_no_outliers.drop([\"outliers\"], axis = 1)"
   ]
  },
  {
   "cell_type": "code",
   "execution_count": null,
   "metadata": {},
   "outputs": [],
   "source": [
    "# Dataset normalized without onehot preprocessing. Get the numeric features to modify their scale\n",
    "pipe = Pipeline([('scaler', PowerTransformer())])\n",
    "\n",
    "df_aux = pd.DataFrame(pipe_fit.fit_transform(df_no_outliers[[\"age\", \"balance\"]] ), columns = [\"age\", \"balance\"])\n",
    "df_no_outliers_norm = df_no_outliers.copy()\n",
    "\n",
    "# Replace age and balance columns by preprocessed values\n",
    "df_no_outliers_norm = df_no_outliers_norm.drop([\"age\", \"balance\"], axis = 1)\n",
    "df_no_outliers_norm[\"age\"] = df_aux[\"age\"].values\n",
    "df_no_outliers_norm[\"balance\"] = df_aux[\"balance\"].values\n",
    "df_no_outliers_norm"
   ]
  },
  {
   "cell_type": "markdown",
   "metadata": {},
   "source": []
  }
 ],
 "metadata": {
  "kernelspec": {
   "display_name": "Python 3",
   "language": "python",
   "name": "python3"
  },
  "language_info": {
   "codemirror_mode": {
    "name": "ipython",
    "version": 3
   },
   "file_extension": ".py",
   "mimetype": "text/x-python",
   "name": "python",
   "nbconvert_exporter": "python",
   "pygments_lexer": "ipython3",
   "version": "3.11.9"
  }
 },
 "nbformat": 4,
 "nbformat_minor": 2
}
