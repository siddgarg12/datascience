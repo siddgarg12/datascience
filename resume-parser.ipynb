{
 "cells": [
  {
   "cell_type": "code",
   "execution_count": 2,
   "metadata": {},
   "outputs": [
    {
     "name": "stdout",
     "output_type": "stream",
     "text": [
      "Collecting PyPDF2\n",
      "  Downloading pypdf2-3.0.1-py3-none-any.whl.metadata (6.8 kB)\n",
      "Downloading pypdf2-3.0.1-py3-none-any.whl (232 kB)\n",
      "   ---------------------------------------- 0.0/232.6 kB ? eta -:--:--\n",
      "   -------------------------------------- - 225.3/232.6 kB 4.6 MB/s eta 0:00:01\n",
      "   ---------------------------------------- 232.6/232.6 kB 3.6 MB/s eta 0:00:00\n",
      "Installing collected packages: PyPDF2\n",
      "Successfully installed PyPDF2-3.0.1\n"
     ]
    },
    {
     "name": "stderr",
     "output_type": "stream",
     "text": [
      "\n",
      "[notice] A new release of pip is available: 24.1.2 -> 24.2\n",
      "[notice] To update, run: C:\\Users\\siddh\\AppData\\Local\\Microsoft\\WindowsApps\\PythonSoftwareFoundation.Python.3.11_qbz5n2kfra8p0\\python.exe -m pip install --upgrade pip\n"
     ]
    }
   ],
   "source": [
    "! pip install PyPDF2"
   ]
  },
  {
   "cell_type": "code",
   "execution_count": 7,
   "metadata": {},
   "outputs": [
    {
     "ename": "NameError",
     "evalue": "name 'filename' is not defined",
     "output_type": "error",
     "traceback": [
      "\u001b[1;31m---------------------------------------------------------------------------\u001b[0m",
      "\u001b[1;31mNameError\u001b[0m                                 Traceback (most recent call last)",
      "Cell \u001b[1;32mIn[7], line 15\u001b[0m\n\u001b[0;32m     13\u001b[0m     rows \u001b[38;5;241m=\u001b[39m page\u001b[38;5;241m.\u001b[39mextract_text()\u001b[38;5;241m.\u001b[39msplit(\u001b[38;5;124m'\u001b[39m\u001b[38;5;130;01m\\n\u001b[39;00m\u001b[38;5;124m'\u001b[39m)\n\u001b[0;32m     14\u001b[0m     \u001b[38;5;28;01mfor\u001b[39;00m i \u001b[38;5;129;01min\u001b[39;00m rows:\n\u001b[1;32m---> 15\u001b[0m         data\u001b[38;5;241m.\u001b[39mappend({\u001b[38;5;124m'\u001b[39m\u001b[38;5;124mfilename\u001b[39m\u001b[38;5;124m'\u001b[39m: \u001b[43mfilename\u001b[49m, \u001b[38;5;124m'\u001b[39m\u001b[38;5;124mrow\u001b[39m\u001b[38;5;124m'\u001b[39m: row\u001b[38;5;241m.\u001b[39mstrip()})\n\u001b[0;32m     17\u001b[0m df \u001b[38;5;241m=\u001b[39m pd\u001b[38;5;241m.\u001b[39mDataFrame(data)\n\u001b[0;32m     18\u001b[0m \u001b[38;5;28mprint\u001b[39m(df)\n",
      "\u001b[1;31mNameError\u001b[0m: name 'filename' is not defined"
     ]
    }
   ],
   "source": [
    "import os\n",
    "import pandas as pd\n",
    "from PyPDF2 import PdfReader\n",
    "\n",
    "file = \"./data/Sid_Garg_CV.pdf\"\n",
    "reader = PdfReader(file)\n",
    "\n",
    "full_text = \"\"\n",
    "data = []\n",
    "            \n",
    "# Iterate through each page in the PDF\n",
    "for page in reader.pages:\n",
    "    rows = page.extract_text().split('\\n')\n",
    "    for i in rows:\n",
    "        data.append({'file': file, 'row': row.strip()})\n",
    "            \n",
    "df = pd.DataFrame(data)\n",
    "print(df)"
   ]
  },
  {
   "cell_type": "code",
   "execution_count": 6,
   "metadata": {},
   "outputs": [
    {
     "data": {
      "text/plain": [
       "[{'file': './data/Sid_Garg_CV.pdf',\n",
       "  'text': 'Siddhartha\\n(Sid)\\nGarg\\n+44\\n7342025824\\nsiddharthag@gmail.com\\nlinkedin.com/in/siddharthag\\nSeasoned\\nprofessional\\nwith\\n˜20\\nyears\\nof\\nexperience\\nin\\nData/AI\\nin\\nGoogle\\nSearch\\n&\\nscale-ups,\\nwith\\nstrong\\nAI/ML\\nknowledge,\\ndata\\nanalytics\\nexperience,\\nproduct\\nmanagement\\nand\\nteam\\nleadership\\nskills.\\nFull\\nbreadth\\nof\\nexperience\\nacross\\nbuilding\\nAI/ML\\nbased\\ninnovative\\nproducts\\n&\\nscaling\\nproducts\\nvia\\nproduct-led-growth\\nmotions/marketing.\\nIndependent\\nconsultant\\nto\\nseed-stage\\nstartups\\nand\\nex-management\\nconsultant.\\nWORK\\nEXPERIENCE\\n|\\nWorkable.com\\nVice\\nPresident,\\nProduct\\nGrowth\\nLondon,\\nSep\\'22\\n-\\ntill\\ndate\\nLed\\nGrowth\\nteam,\\nimplementing\\nProduct-led\\ngrowth\\n&\\nGrowth\\nmarketing\\ninitiatives\\n●\\nDefined\\nProduct\\nVision\\nfor\\nB2C\\nSaaS\\nproducts\\n-\\na\\nfreemium\\ntool\\nbuilt\\nusing\\nGenAI\\nfor\\nhiring\\nmanagers\\n(which\\ngrew\\nto\\n10k\\nusers\\nwithin\\n3\\nmonths\\nof\\nlaunch)\\nand\\n\"Create\\na\\njob\\nboard\"\\nSaaS\\n(where\\n10\\npartnerships\\nwere\\nlaunched\\nwith\\n5k\\ncustomers\\nin\\n1st\\n6\\nmonths).\\n●\\nDevised\\nProduct\\nStrategy\\nand\\nmanaged\\nRoadmap\\nfor\\nPLG\\npillar\\n-\\nenhancing\\nthe\\nwebsite-to-trial\\nconversion\\nrate\\nthrough\\nthe\\nrefinement\\nof\\nsign-up\\nand\\nsign-in\\nprocesses,\\nled\\nthe\\ndevelopment\\nof\\nan\\nin-app\\nand\\nemail-based\\nrecommendation\\nsystem,\\nand\\nstrategically\\nrevised\\npricing\\nand\\nbundling\\noptions\\nto\\nboost\\nthe\\ntrial-to-paid\\nconversion\\nrate.\\n●\\nEnhanced\\nteam\\nproductivity\\nby\\nstreamlining\\nproduct\\nlaunch\\nprocesses,\\ndoubled\\nContent\\nproductivity\\nthrough\\nadoption\\nof\\nGenAI\\ntools\\n&\\nSEO\\nefforts,\\nreduced\\npaid\\ncost-per-lead\\nby\\n33%\\nby\\ncontinuous\\nexperimentation\\nwith\\nA/B\\ntesting\\n●\\nBuilt\\n&\\nmentored\\nthe\\ngrowth\\nteam\\nfrom\\nscratch\\nto\\na\\ngroup\\nof\\n12\\nhigh\\nperforming\\nindividuals,\\nwith\\ndiverse\\nskill\\nsets\\nfrom\\nproduct\\nmanagement\\nand\\nB2B\\nmarketing.\\n|\\nGoogle\\nInc\\nSenior\\nProduct\\nManager\\nIndia/London,\\nMay\\'14\\n-\\nSep\\'22\\nHoned\\nskills\\nof\\nAI/ML\\nproduct\\ndevelopment\\nin\\nGoogle\\nSearch\\nand\\nAds\\n●\\nImproved\\nGoogle\\nsearch\\nexperience\\nwith\\nproduct\\nsummarization\\nfeature\\n(on\\nqueries\\nlike:\\niphone\\nprox\\nmax)\\nusing\\nBERT,\\nTF-IDF,\\nLaMBDA\\nmodel\\nleading\\nto\\nimprovement\\nin\\nhelpfulness\\nscore\\nby\\n10%,\\n●\\nLaunched\\nthe\\nproduct\\ncomparison\\nfeature\\n(queries\\nlike:\\npixel\\n5\\nvs\\n6)\\nwith\\nbetter\\nUX\\nand\\ninsights\\nsummarized\\nusing\\nLLMs,\\nwhich\\nimproved\\nquery\\nvolumes\\nfrom\\nalmost\\nzero\\nto\\n~2%\\nof\\nSearch\\nin\\nUS\\n●\\nEnvisioned\\n&\\nlaunched\\nthe\\nmerchant\\ndata\\n&\\nanalytics\\nplatform\\nin\\nGoogle\\'s\\nmerchant\\ncenter\\nwith\\na\\n40%\\nadoption\\nwithin\\na\\nyear.\\nThe\\nplatform\\nwas\\nbuilt\\nwith\\n4\\nhours\\nlatency\\nof\\ndata\\nrefresh,\\n~5\\nsecond\\nquery\\ntime\\nat\\na\\nproduct\\nlevel\\nfor\\nmillions\\nof\\nproducts.\\n●\\nLaunched\\nan\\nintegration\\nwith\\nMerchant\\nCenter\\nwith\\nGoogle\\nAnalytics\\n4\\nto\\nreport\\nGross\\nmerchandise\\nvalue\\n(GMV)\\n&\\nconversions\\nreporting,\\nthrough\\na\\ncomplex\\n1.5\\n\\nyears\\nproject\\nwith\\na\\ncross-product\\nteam\\nof\\n30.\\nAdoption\\nwent\\nto\\n15%\\nof\\nclicks\\nwithin\\na\\nyear,\\nbeating\\nbusiness\\ntarget\\nof\\n10%.\\n●\\nLaunched\\nmultiple\\nAd-tech\\nproducts\\nthrough\\nAPI\\nintegrations\\nof\\nGoogle\\nAds\\nwith\\ncompanies\\nin\\nbidding/Ad-tech\\nproducts,\\nshopping\\nfeed\\nmanagers,\\nreview\\ntools,\\nto\\ndrive\\nacquisitions.\\nDrove\\nacquisitions\\nrevenue\\nfrom\\n10x\\nto\\n$500m\\nin\\nEMEA\\nin\\n3\\nyears.\\n●\\nEnvisioned\\nand\\nimplemented\\na\\nrecommendation\\nengine,\\nto\\nguide\\nproduct\\nroadmap\\nfor\\nGoogle\\nAds\\ntech\\npartners.\\n●\\nHired\\nand\\nmentored\\na\\nteam\\nof\\n5\\nPMs\\nacross\\nEMEA\\nin\\nGoogle\\nAds\\nAPI\\nteam.\\n|\\nEY\\n(Ernst\\n&\\nYoung)\\nLLP\\nManager,\\nBusiness\\nAdvisory\\nIndia,\\nAug’10\\nto\\nMay’14\\n●\\nStrategy\\n&\\nOperations\\nconsulting\\nacross\\nTech\\nand\\nTelecom\\nsector\\nin\\nIndia\\n-\\n3G\\ngo\\nto\\nmarket\\nstrategy\\nfor\\nTelco,\\nCost\\nimprovement\\nin\\nprint\\n/\\nmedia\\ndeals\\nfor\\na\\nTelco,\\n●\\nLed\\ndigital\\ntransformation\\nprojects,\\nsuch\\nas\\nVendor\\nconsolidation\\nat\\na\\nANZ\\nTelco\\nto\\na\\nsingle\\nIT\\nvendor,\\nDeal\\n●\\nImproved\\nEBITDA\\nby\\n12%\\nfor\\nan\\nIT\\nservices\\nmajor\\nthrough\\nrestructuring\\nRFP\\noperations,\\nincreasing\\nsales\\nsuccess\\npay,\\nproject\\nmanagement\\nof\\nkey\\ndeals\\n●\\nLaunched\\nsales\\ndigitalization\\napp\\nat\\na\\nlarge\\nIndian\\ntelco,\\nleading\\nto\\n~100%\\nadoption\\nin\\npilot\\nmarket\\nwithin\\n2\\nquarters\\nof\\nlaunch\\n|\\nOpera\\nSolutions\\nManagement\\nConsulting\\n(acquired\\nby\\nWipro\\nLtd)\\nSenior\\nAssociate\\nIndia,\\nJan’07\\nto\\nAug’10\\n●\\nConsulting\\nin\\nareas\\nof\\nCost\\nOptimization,\\nHR\\noptimization\\nand\\nanalytics\\n(customer\\nsegmentation)\\n●\\nLaunched\\nBloomberg-like\\nintelligence\\ntool\\nfor\\ncost\\noptimization\\n|\\nCrisil\\nResearch\\n&\\nInformation\\nServices\\nLtd\\n(a\\nS&P\\ncompany)\\nManager,\\nEquity\\nResearch\\nIndia,\\nMay\\'06\\n–\\nJan\\'07\\nTracked\\nEuropean\\nsemiconductor\\nfirms\\nand\\nposted\\nvaluation\\nand\\nstrategic\\nresearch\\npapers\\n|\\nTexas\\nInstruments\\nIndia\\nDesign\\nEngineer\\nIndia,\\nDec’03\\nto\\nMar’05\\nImplemented\\nend-to-end\\ndesign\\nchanges\\n(Perl)\\nto\\nreduce\\nchip\\ndesign\\ncycle\\ntime\\nby\\n6-10x.\\nMarketed\\nsolution\\nto\\nclients\\nacross\\n3\\nfunctions\\nand\\n4\\ngeographies\\nleading\\nto\\nadoption\\nby\\n13\\nchip\\ndesigns\\nworldwide\\nEDUCATION\\nIndian\\nSchool\\nof\\nBusiness\\n(ISB),\\nHyderabad\\nIndia,\\n2005-2006\\nMBA\\n(Marketing\\nand\\nFinance)\\n,\\nDean’s\\n&\\nCore\\nMerit\\nLister\\nIndian\\nInstitute\\nof\\nTechnology\\n(IIT-BHU)\\nIndia,\\n1999-2003\\nBachelor\\nof\\nTechnology\\n(Gold\\nMedallist)'}]"
      ]
     },
     "execution_count": 6,
     "metadata": {},
     "output_type": "execute_result"
    }
   ],
   "source": [
    "data"
   ]
  }
 ],
 "metadata": {
  "kernelspec": {
   "display_name": "Python 3",
   "language": "python",
   "name": "python3"
  },
  "language_info": {
   "codemirror_mode": {
    "name": "ipython",
    "version": 3
   },
   "file_extension": ".py",
   "mimetype": "text/x-python",
   "name": "python",
   "nbconvert_exporter": "python",
   "pygments_lexer": "ipython3",
   "version": "3.11.9"
  }
 },
 "nbformat": 4,
 "nbformat_minor": 2
}
