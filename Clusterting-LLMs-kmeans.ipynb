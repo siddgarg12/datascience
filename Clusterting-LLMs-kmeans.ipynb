{
 "cells": [
  {
   "cell_type": "code",
   "execution_count": null,
   "metadata": {},
   "outputs": [],
   "source": [
    "import pandas as pd # dataframe manipulation\n",
    "import numpy as np # linear algebra\n",
    "from sentence_transformers import SentenceTransformer\n",
    "\n",
    "\n",
    "\n",
    "df = pd.read_csv(\"data/train.csv\", sep = \";\")\n",
    "\n",
    "def compile_text(x):\n",
    "\n",
    "\n",
    "    text =  f\"\"\"Age: {x['age']},  \n",
    "                housing load: {x['housing']}, \n",
    "                Job: {x['job']}, \n",
    "                Marital: {x['marital']}, \n",
    "                Education: {x['education']}, \n",
    "                Default: {x['default']}, \n",
    "                Balance: {x['balance']}, \n",
    "                Personal loan: {x['loan']}\n",
    "            \"\"\"\n",
    "\n",
    "    return text\n",
    "\n",
    "sentences = df.apply(lambda x: compile_text(x), axis=1).tolist()\n",
    "\n",
    "\n",
    "\n",
    "model = SentenceTransformer(r\"sentence-transformers/paraphrase-MiniLM-L6-v2\")\n",
    "\n",
    "output = model.encode(sentences=sentences, show_progress_bar= True, normalize_embeddings  = True)\n",
    "\n",
    "df_embedding = pd.DataFrame(output)\n",
    "df_embedding\n",
    "\n",
    "\n",
    "df_embedding.to_csv(\"embedding_train.csv\",index = False)"
   ]
  }
 ],
 "metadata": {
  "language_info": {
   "name": "python"
  }
 },
 "nbformat": 4,
 "nbformat_minor": 2
}
